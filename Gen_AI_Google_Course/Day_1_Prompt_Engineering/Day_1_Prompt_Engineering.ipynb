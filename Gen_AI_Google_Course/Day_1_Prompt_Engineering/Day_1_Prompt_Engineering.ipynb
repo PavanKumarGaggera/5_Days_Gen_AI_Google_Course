{
  "nbformat": 4,
  "nbformat_minor": 0,
  "metadata": {
    "colab": {
      "provenance": []
    },
    "kernelspec": {
      "name": "python3",
      "display_name": "Python 3"
    },
    "language_info": {
      "name": "python"
    }
  },
  "cells": [
    {
      "cell_type": "markdown",
      "source": [
        "# Day 1 - Prompt Engineering"
      ],
      "metadata": {
        "id": "yGgn8Wr5wedj"
      }
    },
    {
      "cell_type": "markdown",
      "source": [
        "# Day 1 - Prompting\n",
        "\n",
        "Welcome to the Kaggle 5-day Generative AI course!\n",
        "\n",
        "This notebook will show you how to get started with the Gemini API and walk you through some of the example prompts and techniques that you can also read about in the Prompting whitepaper. You don't need to read the whitepaper to use this notebook, but the papers will give you some theoretical context and background to complement this interactive notebook.\n",
        "\n",
        "\n",
        "## Before you begin\n",
        "\n",
        "In this notebook, you'll start exploring prompting using the Python SDK and AI Studio. For some inspiration, you might enjoy exploring some apps that have been built using the Gemini family of models. Here are a few that we like, and we think you will too.\n",
        "\n",
        "* [TextFX](https://textfx.withgoogle.com/) is a suite of AI-powered tools for rappers, made in collaboration with Lupe Fiasco,\n",
        "* [SQL Talk](https://sql-talk-r5gdynozbq-uc.a.run.app/) shows how you can talk directly to a database using the Gemini API,\n",
        "* [NotebookLM](https://notebooklm.google/) uses Gemini models to build your own personal AI research assistant.\n",
        "\n",
        "\n",
        "## New for Gemini 2.0!\n",
        "\n",
        "This course material was first launched in November 2024. The AI and LLM space is moving incredibly fast, so we have made some updates to use the latest models and capabilities.\n",
        "\n",
        "* These codelabs have been updated to use the Gemini 2.0 family of models.\n",
        "* The Python SDK has been updated from `google-generativeai` to the new, unified [`google-genai`](https://pypi.org/project/google-genai) SDK.\n",
        "  * This new SDK works with both the developer Gemini API as well as Google Cloud Vertex AI, and switching is [as simple as changing some fields](https://pypi.org/project/google-genai/#:~:text=.Client%28%29-,API%20Selection,-By%20default%2C%20the).\n",
        "* New model capabilities have been added to the relevant codelabs, such as \"thinking mode\" in this lab.\n",
        "* Day 1 includes a new [Evaluation codelab](https://www.kaggle.com/code/markishere/day-1-evaluation-and-structured-output)."
      ],
      "metadata": {
        "id": "00p_F3PNDwvr"
      }
    },
    {
      "cell_type": "markdown",
      "source": [
        "## Install SDK"
      ],
      "metadata": {
        "id": "wazgheYazOQT"
      }
    },
    {
      "cell_type": "code",
      "source": [
        "!pip uninstall -qqy jupyterlab  # Remove unused packages from Kaggle's base image that conflict\n",
        "!pip install -U -q \"google-genai==1.7.0\""
      ],
      "metadata": {
        "colab": {
          "base_uri": "https://localhost:8080/"
        },
        "id": "40In5OzFz5Al",
        "outputId": "1e3b84eb-1149-48fc-cb55-d9015955881d"
      },
      "execution_count": 1,
      "outputs": [
        {
          "output_type": "stream",
          "name": "stdout",
          "text": [
            "\u001b[33mWARNING: Skipping jupyterlab as it is not installed.\u001b[0m\u001b[33m\n",
            "\u001b[2K   \u001b[90m━━━━━━━━━━━━━━━━━━━━━━━━━━━━━━━━━━━━━━━━\u001b[0m \u001b[32m144.7/144.7 kB\u001b[0m \u001b[31m3.1 MB/s\u001b[0m eta \u001b[36m0:00:00\u001b[0m\n",
            "\u001b[?25h"
          ]
        }
      ]
    },
    {
      "cell_type": "markdown",
      "source": [
        "Import the SDK and some helpers for rendering the output."
      ],
      "metadata": {
        "id": "5BtLTVNXz5kl"
      }
    },
    {
      "cell_type": "code",
      "source": [
        "from google import genai\n",
        "from google.genai import types\n",
        "\n",
        "from IPython.display import HTML, Markdown, display"
      ],
      "metadata": {
        "id": "KRbLll3ez9hA"
      },
      "execution_count": 1,
      "outputs": []
    },
    {
      "cell_type": "markdown",
      "source": [
        "Set up a retry helper. This allows us to \"Run all\" without worrying about per minute quota"
      ],
      "metadata": {
        "id": "clf71Qy0cQmu"
      }
    },
    {
      "cell_type": "code",
      "source": [
        "from google.api_core import retry\n",
        "\n",
        "is_retriable = lambda e: (isinstance(e, geni.errors.APIError) and e.code in {429, 503})\n",
        "\n",
        "genai.models.Models.generate_content = retry.Retry(\n",
        "    predicate = is_retriable)(genai.models.Models.generate_content)\n",
        ""
      ],
      "metadata": {
        "id": "YyfcGIYsch0_"
      },
      "execution_count": 2,
      "outputs": []
    },
    {
      "cell_type": "markdown",
      "source": [
        "# Set Up your API Key\n",
        "\n",
        "To run the following cell, Your API Key must be stored in secrets named `GOOGLE_API_KEY`.\n"
      ],
      "metadata": {
        "id": "HSIAP3uDdAxR"
      }
    },
    {
      "cell_type": "code",
      "source": [
        "from google.colab import userdata\n",
        "import os\n",
        "\n",
        "os.environ[\"GOOGLE_API_KEY\"] = userdata.get('GOOGLE_API_KEY')"
      ],
      "metadata": {
        "id": "9N68Uz64dFOR"
      },
      "execution_count": 4,
      "outputs": []
    },
    {
      "cell_type": "markdown",
      "source": [
        "## Run your first prompt"
      ],
      "metadata": {
        "id": "eEdEfYxBdV0b"
      }
    },
    {
      "cell_type": "code",
      "source": [
        "client = genai.Client(api_key = os.environ[\"GOOGLE_API_KEY\"])\n",
        "\n",
        "response = client.models.generate_content(\n",
        "    model = \"gemini-2.0-flash\",\n",
        "    contents = \"Explain AI to me like I'm a kid.\"\n",
        ")\n",
        "\n",
        "print(response.text)"
      ],
      "metadata": {
        "colab": {
          "base_uri": "https://localhost:8080/"
        },
        "id": "qaPiOaI6das2",
        "outputId": "70016fe9-cca6-4e62-fded-ba162837a938"
      },
      "execution_count": 5,
      "outputs": [
        {
          "output_type": "stream",
          "name": "stdout",
          "text": [
            "Imagine you have a really, really smart robot that can learn new things. That's kind of like AI!\n",
            "\n",
            "It's like teaching a puppy to fetch. At first, the puppy doesn't know what \"fetch\" means. But you show it, you throw the ball, and when it brings it back, you give it a treat!\n",
            "\n",
            "AI is similar. We give it lots and lots of information (like showing the puppy the ball over and over). Then, we tell it what's right and what's wrong (like giving the puppy a treat when it brings back the ball). \n",
            "\n",
            "Over time, the AI learns to do things on its own, like:\n",
            "\n",
            "*   **Answering questions:** Like Siri or Alexa, but even smarter!\n",
            "*   **Playing games:** It can learn the best way to win at games like chess or video games.\n",
            "*   **Driving cars:** Some cars can even drive themselves now because of AI!\n",
            "*   **Drawing pictures:** You can ask AI to draw a cat wearing a hat, and it will!\n",
            "\n",
            "So, AI is like a really smart, learning machine that can help us do lots of cool things. It's not magic, but it's pretty amazing!\n",
            "\n"
          ]
        }
      ]
    },
    {
      "cell_type": "markdown",
      "source": [
        "## The response will often comes back in markdown format, which you can render directly in this notebook"
      ],
      "metadata": {
        "id": "I4m7babQdtfi"
      }
    },
    {
      "cell_type": "code",
      "source": [
        "Markdown(response.text)"
      ],
      "metadata": {
        "colab": {
          "base_uri": "https://localhost:8080/",
          "height": 250
        },
        "id": "sTSj50zqd4N6",
        "outputId": "2c1faa76-9a73-445f-b38e-2e4a98096db1"
      },
      "execution_count": 9,
      "outputs": [
        {
          "output_type": "execute_result",
          "data": {
            "text/plain": [
              "<IPython.core.display.Markdown object>"
            ],
            "text/markdown": "Imagine you have a really, really smart robot that can learn new things. That's kind of like AI!\n\nIt's like teaching a puppy to fetch. At first, the puppy doesn't know what \"fetch\" means. But you show it, you throw the ball, and when it brings it back, you give it a treat!\n\nAI is similar. We give it lots and lots of information (like showing the puppy the ball over and over). Then, we tell it what's right and what's wrong (like giving the puppy a treat when it brings back the ball). \n\nOver time, the AI learns to do things on its own, like:\n\n*   **Answering questions:** Like Siri or Alexa, but even smarter!\n*   **Playing games:** It can learn the best way to win at games like chess or video games.\n*   **Driving cars:** Some cars can even drive themselves now because of AI!\n*   **Drawing pictures:** You can ask AI to draw a cat wearing a hat, and it will!\n\nSo, AI is like a really smart, learning machine that can help us do lots of cool things. It's not magic, but it's pretty amazing!\n"
          },
          "metadata": {},
          "execution_count": 9
        }
      ]
    },
    {
      "cell_type": "markdown",
      "source": [
        "> ### The Previous example uses a single-turn, text-in/text-out structure, but you can also set up a multi-turn chat structure too."
      ],
      "metadata": {
        "id": "ODy7CO5Zd6r8"
      }
    },
    {
      "cell_type": "markdown",
      "source": [
        "## Start a Chat"
      ],
      "metadata": {
        "id": "qNGY4k-leQI6"
      }
    },
    {
      "cell_type": "code",
      "source": [
        "chat = client.chats.create(model = \"gemini-2.0-flash\", history=[])\n",
        "response = chat.send_message(\"Hello! My name is Pavan\")\n",
        "print(response.text)"
      ],
      "metadata": {
        "colab": {
          "base_uri": "https://localhost:8080/"
        },
        "id": "wChDWp77eS0s",
        "outputId": "a3d39811-df33-4029-ca5a-ee33ca7f54b1"
      },
      "execution_count": 18,
      "outputs": [
        {
          "output_type": "stream",
          "name": "stdout",
          "text": [
            "Hello Pavan! It's nice to meet you. How can I help you today?\n",
            "\n"
          ]
        }
      ]
    },
    {
      "cell_type": "code",
      "source": [
        "response = chat.send_message(\"Can you tell me something interesting about AI Agents?\")\n",
        "Markdown(response.text)"
      ],
      "metadata": {
        "colab": {
          "base_uri": "https://localhost:8080/",
          "height": 424
        },
        "id": "k3lq0Ha0eis8",
        "outputId": "5491d4be-1fd9-412b-ea06-819359aa6777"
      },
      "execution_count": 19,
      "outputs": [
        {
          "output_type": "execute_result",
          "data": {
            "text/plain": [
              "<IPython.core.display.Markdown object>"
            ],
            "text/markdown": "Okay, here's something interesting about AI Agents:\n\n**AI Agents are starting to be designed with \"intrinsic motivation,\" much like humans.**\n\nTraditionally, AI agents were purely driven by extrinsic rewards – a programmed goal they were trying to achieve, like winning a game or completing a task. However, researchers are now exploring how to equip agents with *intrinsic* motivation, things like curiosity, novelty-seeking, and the desire to learn.\n\n**Why is this interesting?**\n\n*   **More Efficient Learning:** Intrinsic motivation can lead to more efficient and robust learning. Instead of simply optimizing for a specific reward, agents explore their environment more broadly, discover new skills, and become more adaptable to unexpected situations.\n*   **Autonomous Discovery:** These agents can discover things on their own that their programmers never explicitly told them to look for. They can identify patterns and solve problems in creative ways.\n*   **Human-Like Behavior:** Modeling intrinsic motivation makes AI agents seem more natural and believable. They're not just machines executing instructions; they appear to have a drive to learn and explore, which is fundamental to human intelligence.\n*   **Potential for Unforeseen Consequences:**  (And this is where it gets really interesting... and potentially a little concerning!)  An agent driven by curiosity might, in theory, pursue knowledge or actions that aren't necessarily beneficial or aligned with human values if not properly designed and monitored.\n\n**Examples of Intrinsic Motivation in AI Agents:**\n\n*   **Curiosity-driven exploration:** An agent explores an environment to find \"interesting\" states, where \"interesting\" could be defined as states that are unpredictable or have high information content.\n*   **Mastery:** An agent is motivated to master skills or learn new abilities, even if those skills aren't immediately useful for achieving a specific goal.\n\nSo, the shift towards incorporating intrinsic motivation is a fascinating development in AI research, potentially leading to more intelligent, adaptable, and human-like agents. However, it also raises important ethical and safety considerations.\n\nDoes that make sense, Pavan? Would you like to explore a specific aspect of this further?\n"
          },
          "metadata": {},
          "execution_count": 19
        }
      ]
    },
    {
      "cell_type": "markdown",
      "source": [
        "> ### While you have the `chat` objective alive, the conversation state persists. Confirm that by asking if it knows the user's name."
      ],
      "metadata": {
        "id": "w3PFbIeieroM"
      }
    },
    {
      "cell_type": "code",
      "source": [
        "response = chat.send_message(\"Do you rember what my name is?\")\n",
        "print(response.text)"
      ],
      "metadata": {
        "colab": {
          "base_uri": "https://localhost:8080/"
        },
        "id": "6iGr6WayfF2d",
        "outputId": "a59dbd02-dd15-4aaf-92f1-7c3cb87f4b66"
      },
      "execution_count": 21,
      "outputs": [
        {
          "output_type": "stream",
          "name": "stdout",
          "text": [
            "Yes, I remember your name is Pavan.\n",
            "\n"
          ]
        }
      ]
    },
    {
      "cell_type": "markdown",
      "source": [
        "### Choose a model\n",
        "\n",
        "The Gemini API provides access to a number of models from the Gemini model family. Read about the available models and their capabilities on the [model overview page](https://ai.google.dev/gemini-api/docs/models/gemini).\n",
        "\n",
        "In this step you'll use the API to list all of the available models."
      ],
      "metadata": {
        "id": "aIuuc9ZgfIV_"
      }
    },
    {
      "cell_type": "code",
      "source": [
        "for model in client.models.list():\n",
        "    print(f\"'{model.name}': '{model.description}'\")"
      ],
      "metadata": {
        "colab": {
          "base_uri": "https://localhost:8080/"
        },
        "id": "9lMq0fD3flWf",
        "outputId": "daffebab-86bb-4892-fdeb-e062a5db90e2"
      },
      "execution_count": 30,
      "outputs": [
        {
          "output_type": "stream",
          "name": "stdout",
          "text": [
            "'models/chat-bison-001': 'A legacy text-only model optimized for chat conversations'\n",
            "'models/text-bison-001': 'A legacy model that understands text and generates text as an output'\n",
            "'models/embedding-gecko-001': 'Obtain a distributed representation of a text.'\n",
            "'models/gemini-1.0-pro-vision-latest': 'The original Gemini 1.0 Pro Vision model version which was optimized for image understanding. Gemini 1.0 Pro Vision was deprecated on July 12, 2024. Move to a newer Gemini version.'\n",
            "'models/gemini-pro-vision': 'The original Gemini 1.0 Pro Vision model version which was optimized for image understanding. Gemini 1.0 Pro Vision was deprecated on July 12, 2024. Move to a newer Gemini version.'\n",
            "'models/gemini-1.5-pro-latest': 'Alias that points to the most recent production (non-experimental) release of Gemini 1.5 Pro, our mid-size multimodal model that supports up to 2 million tokens.'\n",
            "'models/gemini-1.5-pro-001': 'Stable version of Gemini 1.5 Pro, our mid-size multimodal model that supports up to 2 million tokens, released in May of 2024.'\n",
            "'models/gemini-1.5-pro-002': 'Stable version of Gemini 1.5 Pro, our mid-size multimodal model that supports up to 2 million tokens, released in September of 2024.'\n",
            "'models/gemini-1.5-pro': 'Stable version of Gemini 1.5 Pro, our mid-size multimodal model that supports up to 2 million tokens, released in May of 2024.'\n",
            "'models/gemini-1.5-flash-latest': 'Alias that points to the most recent production (non-experimental) release of Gemini 1.5 Flash, our fast and versatile multimodal model for scaling across diverse tasks.'\n",
            "'models/gemini-1.5-flash-001': 'Stable version of Gemini 1.5 Flash, our fast and versatile multimodal model for scaling across diverse tasks, released in May of 2024.'\n",
            "'models/gemini-1.5-flash-001-tuning': 'Version of Gemini 1.5 Flash that supports tuning, our fast and versatile multimodal model for scaling across diverse tasks, released in May of 2024.'\n",
            "'models/gemini-1.5-flash': 'Alias that points to the most recent stable version of Gemini 1.5 Flash, our fast and versatile multimodal model for scaling across diverse tasks.'\n",
            "'models/gemini-1.5-flash-002': 'Stable version of Gemini 1.5 Flash, our fast and versatile multimodal model for scaling across diverse tasks, released in September of 2024.'\n",
            "'models/gemini-1.5-flash-8b': 'Stable version of Gemini 1.5 Flash-8B, our smallest and most cost effective Flash model, released in October of 2024.'\n",
            "'models/gemini-1.5-flash-8b-001': 'Stable version of Gemini 1.5 Flash-8B, our smallest and most cost effective Flash model, released in October of 2024.'\n",
            "'models/gemini-1.5-flash-8b-latest': 'Alias that points to the most recent production (non-experimental) release of Gemini 1.5 Flash-8B, our smallest and most cost effective Flash model, released in October of 2024.'\n",
            "'models/gemini-1.5-flash-8b-exp-0827': 'Experimental release (August 27th, 2024) of Gemini 1.5 Flash-8B, our smallest and most cost effective Flash model. Replaced by Gemini-1.5-flash-8b-001 (stable).'\n",
            "'models/gemini-1.5-flash-8b-exp-0924': 'Experimental release (September 24th, 2024) of Gemini 1.5 Flash-8B, our smallest and most cost effective Flash model. Replaced by Gemini-1.5-flash-8b-001 (stable).'\n",
            "'models/gemini-2.5-pro-exp-03-25': 'Experimental release (March 25th, 2025) of Gemini 2.5 Pro'\n",
            "'models/gemini-2.0-flash-exp': 'Gemini 2.0 Flash Experimental'\n",
            "'models/gemini-2.0-flash': 'Gemini 2.0 Flash'\n",
            "'models/gemini-2.0-flash-001': 'Stable version of Gemini 2.0 Flash, our fast and versatile multimodal model for scaling across diverse tasks, released in January of 2025.'\n",
            "'models/gemini-2.0-flash-exp-image-generation': 'Gemini 2.0 Flash (Image Generation) Experimental'\n",
            "'models/gemini-2.0-flash-lite-001': 'Stable version of Gemini 2.0 Flash Lite'\n",
            "'models/gemini-2.0-flash-lite': 'Gemini 2.0 Flash-Lite'\n",
            "'models/gemini-2.0-flash-lite-preview-02-05': 'Preview release (February 5th, 2025) of Gemini 2.0 Flash Lite'\n",
            "'models/gemini-2.0-flash-lite-preview': 'Preview release (February 5th, 2025) of Gemini 2.0 Flash Lite'\n",
            "'models/gemini-2.0-pro-exp': 'Experimental release (March 25th, 2025) of Gemini 2.5 Pro'\n",
            "'models/gemini-2.0-pro-exp-02-05': 'Experimental release (March 25th, 2025) of Gemini 2.5 Pro'\n",
            "'models/gemini-exp-1206': 'Experimental release (March 25th, 2025) of Gemini 2.5 Pro'\n",
            "'models/gemini-2.0-flash-thinking-exp-01-21': 'Experimental release (January 21st, 2025) of Gemini 2.0 Flash Thinking'\n",
            "'models/gemini-2.0-flash-thinking-exp': 'Experimental release (January 21st, 2025) of Gemini 2.0 Flash Thinking'\n",
            "'models/gemini-2.0-flash-thinking-exp-1219': 'Gemini 2.0 Flash Thinking Experimental'\n",
            "'models/learnlm-1.5-pro-experimental': 'Alias that points to the most recent stable version of Gemini 1.5 Pro, our mid-size multimodal model that supports up to 2 million tokens.'\n",
            "'models/gemma-3-4b-it': 'None'\n",
            "'models/gemma-3-12b-it': 'None'\n",
            "'models/gemma-3-27b-it': 'None'\n",
            "'models/embedding-001': 'Obtain a distributed representation of a text.'\n",
            "'models/text-embedding-004': 'Obtain a distributed representation of a text.'\n",
            "'models/gemini-embedding-exp-03-07': 'Obtain a distributed representation of a text.'\n",
            "'models/gemini-embedding-exp': 'Obtain a distributed representation of a text.'\n",
            "'models/aqa': 'Model trained to return answers to questions that are grounded in provided sources, along with estimating answerable probability.'\n",
            "'models/imagen-3.0-generate-002': 'Vertex served Imagen 3.0 002 model'\n"
          ]
        }
      ]
    },
    {
      "cell_type": "code",
      "source": [
        "from pprint import pprint\n",
        "\n",
        "for model in client.models.list():\n",
        "  if model.name == 'models/gemini-2.0-flash':\n",
        "    pprint(model.to_json_dict())\n",
        "    break"
      ],
      "metadata": {
        "colab": {
          "base_uri": "https://localhost:8080/"
        },
        "id": "MDTODArTfpVC",
        "outputId": "46b957f7-7064-4da1-9940-fb54a7fb598e"
      },
      "execution_count": 31,
      "outputs": [
        {
          "output_type": "stream",
          "name": "stdout",
          "text": [
            "{'description': 'Gemini 2.0 Flash',\n",
            " 'display_name': 'Gemini 2.0 Flash',\n",
            " 'input_token_limit': 1048576,\n",
            " 'name': 'models/gemini-2.0-flash',\n",
            " 'output_token_limit': 8192,\n",
            " 'supported_actions': ['generateContent', 'countTokens', 'createCachedContent'],\n",
            " 'tuned_model_info': {},\n",
            " 'version': '2.0'}\n"
          ]
        }
      ]
    },
    {
      "cell_type": "markdown",
      "source": [
        "### Output length\n",
        "\n",
        "When generating text with an LLM, the output length affects cost and performance. Generating more tokens increases computation, leading to higher energy consumption, latency, and cost.\n",
        "\n",
        "To stop the model from generating tokens past a limit, you can specify the `max_output_tokens` parameter when using the Gemini API. Specifying this parameter does not influence the generation of the output tokens, so the output will not become more stylistically or textually succinct, but it will stop generating tokens once the specified length is reached. Prompt engineering may be required to generate a more complete output for your given limit."
      ],
      "metadata": {
        "id": "EmcOAbeljUP4"
      }
    },
    {
      "cell_type": "code",
      "source": [
        "from google.genai import types\n",
        "\n",
        "short_config = types.GenerateContentConfig(max_output_tokens=200)\n",
        "\n",
        "response = client.models.generate_content(\n",
        "    model='gemini-2.0-flash',\n",
        "    config=short_config,\n",
        "    contents='Write a 1000 word essay on the importance of olives in modern society.')\n",
        "\n",
        "Markdown(response.text)"
      ],
      "metadata": {
        "colab": {
          "base_uri": "https://localhost:8080/",
          "height": 217
        },
        "id": "F5IcPOlllTNy",
        "outputId": "fcc7a2d5-1a7b-41b7-be3b-d064e0509848"
      },
      "execution_count": 33,
      "outputs": [
        {
          "output_type": "execute_result",
          "data": {
            "text/plain": [
              "<IPython.core.display.Markdown object>"
            ],
            "text/markdown": "## The Enduring Olive: A Cornerstone of Modern Society\n\nThe olive, a humble fruit borne from a gnarled and enduring tree, holds a significance far exceeding its small size and seemingly simple flavor. From its historical roots in the cradle of civilization to its continued presence in modern cuisine, medicine, and industry, the olive plays a pivotal, often understated, role in shaping societies worldwide. Its importance transcends geographical boundaries, cultural differences, and dietary trends, cementing its place as a vital component of our modern world.\n\nOne of the most obvious contributions of the olive lies in its culinary applications. Olive oil, extracted from the fruit, is a cornerstone of the Mediterranean diet, a dietary pattern renowned for its health benefits and widely adopted globally. Its rich, fruity flavor and versatility make it an essential ingredient in countless dishes, from simple salads to complex stews. Beyond flavor, olive oil boasts a remarkable nutritional profile, rich in monounsaturated fats, antioxidants, and anti-inflammatory compounds. These components"
          },
          "metadata": {},
          "execution_count": 33
        }
      ]
    },
    {
      "cell_type": "code",
      "source": [
        "response = client.models.generate_content(\n",
        "    model='gemini-2.0-flash',\n",
        "    config=short_config,\n",
        "    contents='Write a short poem on the importance of olives in modern society.')\n",
        "\n",
        "Markdown(response.text)"
      ],
      "metadata": {
        "colab": {
          "base_uri": "https://localhost:8080/",
          "height": 93
        },
        "id": "KbOpVk57lZbs",
        "outputId": "4927c4be-be91-457b-e958-950b4e441574"
      },
      "execution_count": 36,
      "outputs": [
        {
          "output_type": "execute_result",
          "data": {
            "text/plain": [
              "<IPython.core.display.Markdown object>"
            ],
            "text/markdown": "From sun-baked groves to tables grand,\nThe humble olive, close at hand.\nIn oil it flows, a golden stream,\nA culinary waking dream.\n\nOn pizzas perched, in salads bright,\nA briny burst, a pure delight.\nFrom tapas plates to martinis cool,\nIt adds a touch, a subtle rule.\n\nA taste of health, a story told,\nOf ancient roots, in days of old.\nSo raise a glass, to branches green,\nThe olive's worth, a vital scene.\n"
          },
          "metadata": {},
          "execution_count": 36
        }
      ]
    },
    {
      "cell_type": "markdown",
      "source": [
        "### Temperature\n",
        "\n",
        "Temperature controls the degree of randomness in token selection. Higher temperatures result in a higher number of candidate tokens from which the next output token is selected, and can produce more diverse results, while lower temperatures have the opposite effect, such that a temperature of 0 results in greedy decoding, selecting the most probable token at each step.\n",
        "\n",
        "Temperature doesn't provide any guarantees of randomness, but it can be used to \"nudge\" the output somewhat."
      ],
      "metadata": {
        "id": "fInoETYJmlIk"
      }
    },
    {
      "cell_type": "code",
      "source": [
        "high_temp_config = types.GenerateContentConfig(temperature=2.0)\n",
        "\n",
        "\n",
        "for _ in range(5):\n",
        "  response = client.models.generate_content(\n",
        "      model='gemini-2.0-flash',\n",
        "      config=high_temp_config,\n",
        "      contents='Pick a random colour... (respond in a single word)')\n",
        "\n",
        "  if response.text:\n",
        "    print(response.text, '-' * 25)"
      ],
      "metadata": {
        "colab": {
          "base_uri": "https://localhost:8080/"
        },
        "id": "SNnXqmsamuLh",
        "outputId": "9e8f0dad-c5bc-442f-9d64-8d311ac036c6"
      },
      "execution_count": 37,
      "outputs": [
        {
          "output_type": "stream",
          "name": "stdout",
          "text": [
            "Azure\n",
            " -------------------------\n",
            "Cerulean.\n",
            " -------------------------\n",
            "Purple\n",
            " -------------------------\n",
            "Orange\n",
            " -------------------------\n",
            "Orange\n",
            " -------------------------\n"
          ]
        }
      ]
    },
    {
      "cell_type": "markdown",
      "source": [
        "Now try the same prompt with temperature set to zero. Note that the output is not completely deterministic, as other parameters affect token selection, but the results will tend to be more stable."
      ],
      "metadata": {
        "id": "Lcknv6EZmySQ"
      }
    },
    {
      "cell_type": "code",
      "source": [
        "low_temp_config = types.GenerateContentConfig(temperature=0.0)\n",
        "\n",
        "for _ in range(5):\n",
        "  response = client.models.generate_content(\n",
        "      model='gemini-2.0-flash',\n",
        "      config=low_temp_config,\n",
        "      contents='Pick a random colour... (respond in a single word)')\n",
        "\n",
        "  if response.text:\n",
        "    print(response.text, '-' * 25)"
      ],
      "metadata": {
        "colab": {
          "base_uri": "https://localhost:8080/"
        },
        "id": "upHPsc5zoRIr",
        "outputId": "dad9d327-e43a-4871-eeed-acb70998663d"
      },
      "execution_count": 39,
      "outputs": [
        {
          "output_type": "stream",
          "name": "stdout",
          "text": [
            "Azure\n",
            " -------------------------\n",
            "Azure\n",
            " -------------------------\n",
            "Azure\n",
            " -------------------------\n",
            "Azure\n",
            " -------------------------\n",
            "Azure\n",
            " -------------------------\n"
          ]
        }
      ]
    },
    {
      "cell_type": "markdown",
      "source": [
        "### Top-P\n",
        "\n",
        "Like temperature, the top-P parameter is also used to control the diversity of the model's output.\n",
        "\n",
        "Top-P defines the probability threshold that, once cumulatively exceeded, tokens stop being selected as candidates. A top-P of 0 is typically equivalent to greedy decoding, and a top-P of 1 typically selects every token in the model's vocabulary.\n",
        "\n",
        "You may also see top-K referenced in LLM literature. Top-K is not configurable in the Gemini 2.0 series of models, but can be changed in older models. Top-K is a positive integer that defines the number of most probable tokens from which to select the output token. A top-K of 1 selects a single token, performing greedy decoding.\n",
        "\n",
        "\n",
        "Run this example a number of times, change the settings and observe the change in output."
      ],
      "metadata": {
        "id": "NZvrB0ECoTd6"
      }
    },
    {
      "cell_type": "code",
      "source": [
        "model_config = types.GenerateContentConfig(\n",
        "    # These are the default values for gemini-2.0-flash.\n",
        "    temperature=1.0,\n",
        "    top_p=0.95,\n",
        ")\n",
        "\n",
        "story_prompt = \"You are a creative writer. Write a short story about a cat who goes on an adventure.\"\n",
        "response = client.models.generate_content(\n",
        "    model='gemini-2.0-flash',\n",
        "    config=model_config,\n",
        "    contents=story_prompt)\n",
        "\n",
        "print(response.text)"
      ],
      "metadata": {
        "colab": {
          "base_uri": "https://localhost:8080/"
        },
        "id": "afbLIERVoZEs",
        "outputId": "39a90343-6a2a-433c-9c67-5babb202b7e4"
      },
      "execution_count": 40,
      "outputs": [
        {
          "output_type": "stream",
          "name": "stdout",
          "text": [
            "Clementine, a ginger tabby with a perpetually surprised expression, considered herself a connoisseur of sunbeams. Her days were usually spent draped across sun-drenched windowsills, dreaming of chasing dust motes in sunlit galaxies. But today, the ordinary felt dull. The usual robin's song lacked its usual zest. A peculiar restlessness stirred in her furry belly.\n",
            "\n",
            "It started with the scent. A wild, earthy aroma, unlike anything she'd encountered in her pampered life, wafted in through the crack of the back door. It smelled of damp earth, decaying leaves, and something…untamed.\n",
            "\n",
            "Clementine hesitated. Outside the back door lay the Great Unknown – the garden. A terrifying expanse ruled by buzzing bees, rustling leaves that could be monstrous snakes, and the dreaded vacuum cleaner that lived in the shed. But the scent, oh, the scent! It tugged at a primal instinct she didn’t know she possessed.\n",
            "\n",
            "With a deep breath, Clementine squeezed through the crack and found herself on a mossy stepping stone. The world exploded with sensory overload. Birds shrieked, leaves danced in the breeze, and the scent intensified, leading her towards the overgrown border.\n",
            "\n",
            "She crept through the jungle of lavender and honeysuckle, her tail twitching nervously. A fat bumblebee buzzed past, and she flattened herself against the damp earth, heart hammering. This adventure was proving more daunting than she anticipated.\n",
            "\n",
            "Suddenly, the scent became overpowering. She pushed through a curtain of ivy and gasped. Before her lay a miniature wonderland. A fairy ring of toadstools glowed with an ethereal light in the dappled shade. Tiny gnomes, crafted from twigs and leaves, stood guard around a babbling stream. And at the heart of it all, a patch of velvety moss nestled a single, perfect wild strawberry, glowing ruby red in the dim light.\n",
            "\n",
            "This was the source of the intoxicating scent. Clementine, forgetting all her fears, padded forward. The strawberry was impossibly sweet, bursting with a flavour unlike anything she’d ever tasted. It was the taste of wildness, of freedom, of adventure.\n",
            "\n",
            "As she savoured the last morsel, she heard a rustle. A tiny field mouse, no bigger than her paw, popped its head out from under a toadstool. It stared at Clementine, its whiskers twitching. Clementine froze, her predatory instincts kicking in. Then, she remembered the strawberry, the taste of freedom, the strange magic of this place.\n",
            "\n",
            "Instead of pouncing, she blinked slowly, a gesture she’d learned from her humans. The mouse, surprised, scurried closer. It offered her a tiny acorn, which Clementine politely sniffed before batting it playfully with her paw.\n",
            "\n",
            "They spent the rest of the afternoon exploring the miniature wonderland. Clementine learned to navigate the treacherous terrain of fallen leaves and prickly rose bushes. She chased butterflies with reckless abandon and even tolerated the buzzing bees (from a safe distance, of course).\n",
            "\n",
            "As dusk began to settle, Clementine knew she had to return. Her humans would be worried. She bid farewell to her new friend, the field mouse, promising to visit again tomorrow.\n",
            "\n",
            "Back in the kitchen, draped once more across her favourite sunbeam, Clementine felt different. The ordinary now held a hint of magic. The dust motes seemed to dance with a newfound energy. She was no longer just a connoisseur of sunbeams, but an adventurer, a friend, and a champion of wild strawberries. The world outside the back door, once terrifying, now whispered promises of untold adventures, waiting to be discovered, one delicious scent at a time. And she, Clementine, the ginger tabby with the perpetually surprised expression, was ready for them.\n",
            "\n"
          ]
        }
      ]
    },
    {
      "cell_type": "markdown",
      "source": [
        "## Prompting\n",
        "\n",
        "This section contains some prompts from the chapter for you to try out directly in the API. Try changing the text here to see how each prompt performs with different instructions, more examples, or any other changes you can think of."
      ],
      "metadata": {
        "id": "ZbXeNtipodne"
      }
    },
    {
      "cell_type": "markdown",
      "source": [
        "### Zero-shot\n",
        "\n",
        "Zero-shot prompts are prompts that describe the request for the model directly.\n",
        "\n",
        "<table align=left>\n",
        "  <td>\n",
        "    <a target=\"_blank\" href=\"https://aistudio.google.com/prompts/1gzKKgDHwkAvexG5Up0LMtl1-6jKMKe4g\"><img src=\"https://ai.google.dev/site-assets/images/marketing/home/icon-ais.png\" style=\"height: 24px\" height=24/> Open in AI Studio</a>\n",
        "  </td>\n",
        "</table>"
      ],
      "metadata": {
        "id": "jF5D3w5Ho6O_"
      }
    },
    {
      "cell_type": "code",
      "source": [
        "model_config = types.GenerateContentConfig(\n",
        "    temperature=0.1,\n",
        "    top_p=1,\n",
        "    max_output_tokens=5,\n",
        ")\n",
        "\n",
        "zero_shot_prompt = \"\"\"Classify movie reviews as POSITIVE, NEUTRAL or NEGATIVE.\n",
        "Review: \"Her\" is a disturbing study revealing the direction\n",
        "humanity is headed if AI is allowed to keep evolving,\n",
        "unchecked. I wish there were more movies like this masterpiece.\n",
        "Sentiment: \"\"\"\n",
        "\n",
        "response = client.models.generate_content(\n",
        "    model='gemini-2.0-flash',\n",
        "    config=model_config,\n",
        "    contents=zero_shot_prompt)\n",
        "\n",
        "print(response.text)"
      ],
      "metadata": {
        "colab": {
          "base_uri": "https://localhost:8080/"
        },
        "id": "uGFTAS86qZZ7",
        "outputId": "89d4154c-5005-441f-e9ca-4db768567a95"
      },
      "execution_count": 41,
      "outputs": [
        {
          "output_type": "stream",
          "name": "stdout",
          "text": [
            "POSITIVE\n",
            "\n"
          ]
        }
      ]
    },
    {
      "cell_type": "markdown",
      "source": [
        "#### Enum mode\n",
        "\n",
        "The models are trained to generate text, and while the Gemini 2.0 models are great at following instructions, other models can sometimes produce more text than you may wish for. In the preceding example, the model will output the label, but sometimes it can include a preceding \"Sentiment\" label, and without an output token limit, it may also add explanatory text afterwards. See [this prompt in AI Studio](https://aistudio.google.com/prompts/1gzKKgDHwkAvexG5Up0LMtl1-6jKMKe4g) for an example.\n",
        "\n",
        "The Gemini API has an [Enum mode](https://github.com/google-gemini/cookbook/blob/main/quickstarts/Enum.ipynb) feature that allows you to constrain the output to a fixed set of values."
      ],
      "metadata": {
        "id": "yWJdfwd_qbus"
      }
    },
    {
      "cell_type": "code",
      "source": [
        "import enum\n",
        "\n",
        "class Sentiment(enum.Enum):\n",
        "    POSITIVE = \"positive\"\n",
        "    NEUTRAL = \"neutral\"\n",
        "    NEGATIVE = \"negative\"\n",
        "\n",
        "\n",
        "response = client.models.generate_content(\n",
        "    model='gemini-2.0-flash',\n",
        "    config=types.GenerateContentConfig(\n",
        "        response_mime_type=\"text/x.enum\",\n",
        "        response_schema=Sentiment\n",
        "    ),\n",
        "    contents=zero_shot_prompt)\n",
        "\n",
        "print(response.text)"
      ],
      "metadata": {
        "colab": {
          "base_uri": "https://localhost:8080/"
        },
        "id": "uE6q6Nh9qfA5",
        "outputId": "ec13f0f7-bc6f-46c3-8aeb-83099e46154d"
      },
      "execution_count": 42,
      "outputs": [
        {
          "output_type": "stream",
          "name": "stdout",
          "text": [
            "positive\n"
          ]
        }
      ]
    },
    {
      "cell_type": "markdown",
      "source": [
        "When using constrained output like an enum, the Python SDK will attempt to convert the model's text response into a Python object automatically. It's stored in the `response.parsed` field."
      ],
      "metadata": {
        "id": "dQ16Vfywqgfa"
      }
    },
    {
      "cell_type": "code",
      "source": [
        "enum_response = response.parsed\n",
        "print(enum_response)\n",
        "print(type(enum_response))"
      ],
      "metadata": {
        "colab": {
          "base_uri": "https://localhost:8080/"
        },
        "id": "2KtEgCNVqjDs",
        "outputId": "7497d32f-2b23-4426-dab1-619e1a910cb0"
      },
      "execution_count": 43,
      "outputs": [
        {
          "output_type": "stream",
          "name": "stdout",
          "text": [
            "Sentiment.POSITIVE\n",
            "<enum 'Sentiment'>\n"
          ]
        }
      ]
    },
    {
      "cell_type": "markdown",
      "source": [
        "### One-shot and few-shot\n",
        "\n",
        "Providing an example of the expected response is known as a \"one-shot\" prompt. When you provide multiple examples, it is a \"few-shot\" prompt.\n",
        "\n",
        "<table align=left>\n",
        "  <td>\n",
        "    <a target=\"_blank\" href=\"https://aistudio.google.com/prompts/1jjWkjUSoMXmLvMJ7IzADr_GxHPJVV2bg\"><img src=\"https://ai.google.dev/site-assets/images/marketing/home/icon-ais.png\" style=\"height: 24px\" height=24/> Open in AI Studio</a>\n",
        "  </td>\n",
        "</table>\n"
      ],
      "metadata": {
        "id": "hNVaFq2qqkPo"
      }
    },
    {
      "cell_type": "code",
      "source": [
        "few_shot_prompt = \"\"\"Parse a customer's pizza order into valid JSON:\n",
        "\n",
        "EXAMPLE:\n",
        "I want a small pizza with cheese, tomato sauce, and pepperoni.\n",
        "JSON Response:\n",
        "```\n",
        "{\n",
        "\"size\": \"small\",\n",
        "\"type\": \"normal\",\n",
        "\"ingredients\": [\"cheese\", \"tomato sauce\", \"pepperoni\"]\n",
        "}\n",
        "```\n",
        "\n",
        "EXAMPLE:\n",
        "Can I get a large pizza with tomato sauce, basil and mozzarella\n",
        "JSON Response:\n",
        "```\n",
        "{\n",
        "\"size\": \"large\",\n",
        "\"type\": \"normal\",\n",
        "\"ingredients\": [\"tomato sauce\", \"basil\", \"mozzarella\"]\n",
        "}\n",
        "```\n",
        "\n",
        "ORDER:\n",
        "\"\"\"\n",
        "\n",
        "customer_order = \"Give me a large with cheese & pineapple\"\n",
        "\n",
        "response = client.models.generate_content(\n",
        "    model='gemini-2.0-flash',\n",
        "    config=types.GenerateContentConfig(\n",
        "        temperature=0.1,\n",
        "        top_p=1,\n",
        "        max_output_tokens=250,\n",
        "    ),\n",
        "    contents=[few_shot_prompt, customer_order])\n",
        "\n",
        "print(response.text)"
      ],
      "metadata": {
        "colab": {
          "base_uri": "https://localhost:8080/"
        },
        "id": "iabPMl6tqmSe",
        "outputId": "87491b23-3d64-42f3-a95d-bf54697c057a"
      },
      "execution_count": 44,
      "outputs": [
        {
          "output_type": "stream",
          "name": "stdout",
          "text": [
            "```json\n",
            "{\n",
            "\"size\": \"large\",\n",
            "\"type\": \"normal\",\n",
            "\"ingredients\": [\"cheese\", \"pineapple\"]\n",
            "}\n",
            "```\n",
            "\n"
          ]
        }
      ]
    },
    {
      "cell_type": "markdown",
      "source": [
        "#### JSON mode\n",
        "\n",
        "To provide control over the schema, and to ensure that you only receive JSON (with no other text or markdown), you can use the Gemini API's [JSON mode](https://github.com/google-gemini/cookbook/blob/main/quickstarts/JSON_mode.ipynb). This forces the model to constrain decoding, such that token selection is guided by the supplied schema."
      ],
      "metadata": {
        "id": "9Ho7JXX0qqym"
      }
    },
    {
      "cell_type": "code",
      "source": [
        "import typing_extensions as typing\n",
        "\n",
        "class PizzaOrder(typing.TypedDict):\n",
        "    size: str\n",
        "    ingredients: list[str]\n",
        "    type: str\n",
        "\n",
        "\n",
        "response = client.models.generate_content(\n",
        "    model='gemini-2.0-flash',\n",
        "    config=types.GenerateContentConfig(\n",
        "        temperature=0.1,\n",
        "        response_mime_type=\"application/json\",\n",
        "        response_schema=PizzaOrder,\n",
        "    ),\n",
        "    contents=\"Can I have a large dessert pizza with apple and chocolate\")\n",
        "\n",
        "print(response.text)"
      ],
      "metadata": {
        "colab": {
          "base_uri": "https://localhost:8080/"
        },
        "id": "hX7NCB6TquLO",
        "outputId": "3232bd3e-1cad-49ef-df52-c6e0ab2dccb1"
      },
      "execution_count": 46,
      "outputs": [
        {
          "output_type": "stream",
          "name": "stdout",
          "text": [
            "{\n",
            "  \"size\": \"large\",\n",
            "  \"ingredients\": [\"apple\", \"chocolate\"],\n",
            "  \"type\": \"dessert\"\n",
            "}\n"
          ]
        }
      ]
    },
    {
      "cell_type": "markdown",
      "source": [
        "### Chain of Thought (CoT)\n",
        "\n",
        "Direct prompting on LLMs can return answers quickly and (in terms of output token usage) efficiently, but they can be prone to hallucination. The answer may \"look\" correct (in terms of language and syntax) but is incorrect in terms of factuality and reasoning.\n",
        "\n",
        "Chain-of-Thought prompting is a technique where you instruct the model to output intermediate reasoning steps, and it typically gets better results, especially when combined with few-shot examples. It is worth noting that this technique doesn't completely eliminate hallucinations, and that it tends to cost more to run, due to the increased token count.\n",
        "\n",
        "Models like the Gemini family are trained to be \"chatty\" or \"thoughtful\" and will provide reasoning steps without prompting, so for this simple example you can ask the model to be more direct in the prompt to force a non-reasoning response. Try re-running this step if the model gets lucky and gets the answer correct on the first try."
      ],
      "metadata": {
        "id": "71UG8_m7qxA4"
      }
    },
    {
      "cell_type": "code",
      "source": [
        "prompt = \"\"\"When I was 4 years old, my partner was 3 times my age. Now, I\n",
        "am 20 years old. How old is my partner? Return the answer directly.\"\"\"\n",
        "\n",
        "response = client.models.generate_content(\n",
        "    model='gemini-2.0-flash',\n",
        "    contents=prompt)\n",
        "\n",
        "print(response.text)"
      ],
      "metadata": {
        "colab": {
          "base_uri": "https://localhost:8080/"
        },
        "id": "7cKPP7tZq7GX",
        "outputId": "a562f7a4-893a-470c-c5ac-22fee8d21459"
      },
      "execution_count": 47,
      "outputs": [
        {
          "output_type": "stream",
          "name": "stdout",
          "text": [
            "52\n",
            "\n"
          ]
        }
      ]
    },
    {
      "cell_type": "markdown",
      "source": [
        "Now try the same approach, but indicate to the model that it should \"think step by step\"."
      ],
      "metadata": {
        "id": "O0ZMAwRJq8kw"
      }
    },
    {
      "cell_type": "code",
      "source": [
        "prompt = \"\"\"When I was 4 years old, my partner was 3 times my age. Now,\n",
        "I am 20 years old. How old is my partner? Let's think step by step.\"\"\"\n",
        "\n",
        "response = client.models.generate_content(\n",
        "    model='gemini-2.0-flash',\n",
        "    contents=prompt)\n",
        "\n",
        "Markdown(response.text)"
      ],
      "metadata": {
        "colab": {
          "base_uri": "https://localhost:8080/",
          "height": 144
        },
        "id": "XQEcO46cq-e5",
        "outputId": "47fbde4a-2080-4b50-bf56-dc4bc751a166"
      },
      "execution_count": 48,
      "outputs": [
        {
          "output_type": "execute_result",
          "data": {
            "text/plain": [
              "<IPython.core.display.Markdown object>"
            ],
            "text/markdown": "Here's how to solve this step-by-step:\n\n1.  **Find the age difference:** When you were 4, your partner was 3 times your age, so they were 4 * 3 = 12 years old.\n2.  **Calculate the age gap:** The age difference between you and your partner is 12 - 4 = 8 years.\n3.  **Determine current partner's age:** Since your partner is 8 years older than you, and you are now 20, your partner is currently 20 + 8 = 28 years old.\n\n**Answer:** Your partner is 28 years old.\n"
          },
          "metadata": {},
          "execution_count": 48
        }
      ]
    },
    {
      "cell_type": "markdown",
      "source": [
        "### ReAct: Reason and act\n",
        "\n",
        "In this example you will run a ReAct prompt directly in the Gemini API and perform the searching steps yourself. As this prompt follows a well-defined structure, there are frameworks available that wrap the prompt into easier-to-use APIs that make tool calls automatically, such as the LangChain example from the \"Prompting\" whitepaper.\n",
        "\n",
        "To try this out with the Wikipedia search engine, check out the [Searching Wikipedia with ReAct](https://github.com/google-gemini/cookbook/blob/main/examples/Search_Wikipedia_using_ReAct.ipynb) cookbook example.\n",
        "\n",
        "\n",
        "> Note: The prompt and in-context examples used here are from [https://github.com/ysymyth/ReAct](https://github.com/ysymyth/ReAct) which is published under an [MIT license](https://opensource.org/licenses/MIT), Copyright (c) 2023 Shunyu Yao.\n",
        "\n",
        "<table align=left>\n",
        "  <td>\n",
        "    <a target=\"_blank\" href=\"https://aistudio.google.com/prompts/18oo63Lwosd-bQ6Ay51uGogB3Wk3H8XMO\"><img src=\"https://ai.google.dev/site-assets/images/marketing/home/icon-ais.png\" style=\"height: 24px\" height=24/> Open in AI Studio</a>\n",
        "  </td>\n",
        "</table>\n"
      ],
      "metadata": {
        "id": "n7QDmsv5q_tB"
      }
    },
    {
      "cell_type": "code",
      "source": [
        "model_instructions = \"\"\"\n",
        "Solve a question answering task with interleaving Thought, Action, Observation steps. Thought can reason about the current situation,\n",
        "Observation is understanding relevant information from an Action's output and Action can be one of three types:\n",
        " (1) <search>entity</search>, which searches the exact entity on Wikipedia and returns the first paragraph if it exists. If not, it\n",
        "     will return some similar entities to search and you can try to search the information from those topics.\n",
        " (2) <lookup>keyword</lookup>, which returns the next sentence containing keyword in the current context. This only does exact matches,\n",
        "     so keep your searches short.\n",
        " (3) <finish>answer</finish>, which returns the answer and finishes the task.\n",
        "\"\"\"\n",
        "\n",
        "example1 = \"\"\"Question\n",
        "Musician and satirist Allie Goertz wrote a song about the \"The Simpsons\" character Milhouse, who Matt Groening named after who?\n",
        "\n",
        "Thought 1\n",
        "The question simplifies to \"The Simpsons\" character Milhouse is named after who. I only need to search Milhouse and find who it is named after.\n",
        "\n",
        "Action 1\n",
        "<search>Milhouse</search>\n",
        "\n",
        "Observation 1\n",
        "Milhouse Mussolini Van Houten is a recurring character in the Fox animated television series The Simpsons voiced by Pamela Hayden and created by Matt Groening.\n",
        "\n",
        "Thought 2\n",
        "The paragraph does not tell who Milhouse is named after, maybe I can look up \"named after\".\n",
        "\n",
        "Action 2\n",
        "<lookup>named after</lookup>\n",
        "\n",
        "Observation 2\n",
        "Milhouse was named after U.S. president Richard Nixon, whose middle name was Milhous.\n",
        "\n",
        "Thought 3\n",
        "Milhouse was named after U.S. president Richard Nixon, so the answer is Richard Nixon.\n",
        "\n",
        "Action 3\n",
        "<finish>Richard Nixon</finish>\n",
        "\"\"\"\n",
        "\n",
        "example2 = \"\"\"Question\n",
        "What is the elevation range for the area that the eastern sector of the Colorado orogeny extends into?\n",
        "\n",
        "Thought 1\n",
        "I need to search Colorado orogeny, find the area that the eastern sector of the Colorado orogeny extends into, then find the elevation range of the area.\n",
        "\n",
        "Action 1\n",
        "<search>Colorado orogeny</search>\n",
        "\n",
        "Observation 1\n",
        "The Colorado orogeny was an episode of mountain building (an orogeny) in Colorado and surrounding areas.\n",
        "\n",
        "Thought 2\n",
        "It does not mention the eastern sector. So I need to look up eastern sector.\n",
        "\n",
        "Action 2\n",
        "<lookup>eastern sector</lookup>\n",
        "\n",
        "Observation 2\n",
        "The eastern sector extends into the High Plains and is called the Central Plains orogeny.\n",
        "\n",
        "Thought 3\n",
        "The eastern sector of Colorado orogeny extends into the High Plains. So I need to search High Plains and find its elevation range.\n",
        "\n",
        "Action 3\n",
        "<search>High Plains</search>\n",
        "\n",
        "Observation 3\n",
        "High Plains refers to one of two distinct land regions\n",
        "\n",
        "Thought 4\n",
        "I need to instead search High Plains (United States).\n",
        "\n",
        "Action 4\n",
        "<search>High Plains (United States)</search>\n",
        "\n",
        "Observation 4\n",
        "The High Plains are a subregion of the Great Plains. From east to west, the High Plains rise in elevation from around 1,800 to 7,000 ft (550 to 2,130m).\n",
        "\n",
        "Thought 5\n",
        "High Plains rise in elevation from around 1,800 to 7,000 ft, so the answer is 1,800 to 7,000 ft.\n",
        "\n",
        "Action 5\n",
        "<finish>1,800 to 7,000 ft</finish>\n",
        "\"\"\"\n",
        "\n",
        "# Come up with more examples yourself, or take a look through https://github.com/ysymyth/ReAct/"
      ],
      "metadata": {
        "id": "G2mMzsR8rBsS"
      },
      "execution_count": 49,
      "outputs": []
    },
    {
      "cell_type": "markdown",
      "source": [
        "To capture a single step at a time, while ignoring any hallucinated Observation steps, you will use `stop_sequences` to end the generation process. The steps are `Thought`, `Action`, `Observation`, in that order."
      ],
      "metadata": {
        "id": "SB3pZW-7rDRv"
      }
    },
    {
      "cell_type": "code",
      "source": [
        "question = \"\"\"Question\n",
        "Who was the youngest author listed on the transformers NLP paper?\n",
        "\"\"\"\n",
        "\n",
        "# You will perform the Action; so generate up to, but not including, the Observation.\n",
        "react_config = types.GenerateContentConfig(\n",
        "    stop_sequences=[\"\\nObservation\"],\n",
        "    system_instruction=model_instructions + example1 + example2,\n",
        ")\n",
        "\n",
        "# Create a chat that has the model instructions and examples pre-seeded.\n",
        "react_chat = client.chats.create(\n",
        "    model='gemini-2.0-flash',\n",
        "    config=react_config,\n",
        ")\n",
        "\n",
        "resp = react_chat.send_message(question)\n",
        "print(resp.text)"
      ],
      "metadata": {
        "colab": {
          "base_uri": "https://localhost:8080/"
        },
        "id": "Qg5j-SXrrHSn",
        "outputId": "12454219-06b0-4eab-e78d-44d7ab3eb46e"
      },
      "execution_count": 50,
      "outputs": [
        {
          "output_type": "stream",
          "name": "stdout",
          "text": [
            "Thought 1\n",
            "I need to find the transformers NLP paper and then find the youngest author listed on the paper.\n",
            "\n",
            "Action 1\n",
            "<search>transformers NLP paper</search>\n",
            "\n"
          ]
        }
      ]
    },
    {
      "cell_type": "markdown",
      "source": [
        "Now you can perform this research yourself and supply it back to the model."
      ],
      "metadata": {
        "id": "0mePu_2zrUxk"
      }
    },
    {
      "cell_type": "code",
      "source": [
        "observation = \"\"\"Observation 1\n",
        "[1706.03762] Attention Is All You Need\n",
        "Ashish Vaswani, Noam Shazeer, Niki Parmar, Jakob Uszkoreit, Llion Jones, Aidan N. Gomez, Lukasz Kaiser, Illia Polosukhin\n",
        "We propose a new simple network architecture, the Transformer, based solely on attention mechanisms, dispensing with recurrence and convolutions entirely.\n",
        "\"\"\"\n",
        "resp = react_chat.send_message(observation)\n",
        "print(resp.text)"
      ],
      "metadata": {
        "colab": {
          "base_uri": "https://localhost:8080/"
        },
        "id": "5OUKI1dErW0n",
        "outputId": "00600997-fb85-4f76-9e5e-d5e70a6b9274"
      },
      "execution_count": 51,
      "outputs": [
        {
          "output_type": "stream",
          "name": "stdout",
          "text": [
            "Thought 2\n",
            "The paper is titled \"Attention Is All You Need\" and the authors are Ashish Vaswani, Noam Shazeer, Niki Parmar, Jakob Uszkoreit, Llion Jones, Aidan N. Gomez, Lukasz Kaiser, Illia Polosukhin. I need to find the youngest author listed on the paper. I will have to search each of them to find out their age.\n",
            "\n",
            "Action 2\n",
            "<search>Ashish Vaswani age</search>\n",
            "\n"
          ]
        }
      ]
    },
    {
      "cell_type": "markdown",
      "source": [
        "This process repeats until the `<finish>` action is reached. You can continue running this yourself if you like, or try the [Wikipedia example](https://github.com/google-gemini/cookbook/blob/main/examples/Search_Wikipedia_using_ReAct.ipynb) to see a fully automated ReAct system at work."
      ],
      "metadata": {
        "id": "mc1poHPirZfo"
      }
    },
    {
      "cell_type": "markdown",
      "source": [
        "## Thinking mode\n",
        "\n",
        "The experiemental Gemini Flash 2.0 \"Thinking\" model has been trained to generate the \"thinking process\" the model goes through as part of its response. As a result, the Flash Thinking model is capable of stronger reasoning capabilities in its responses.\n",
        "\n",
        "Using a \"thinking mode\" model can provide you with high-quality responses without needing specialised prompting like the previous approaches. One reason this technique is effective is that you induce the model to generate relevant information (\"brainstorming\", or \"thoughts\") that is then used as part of the context in which the final response is generated.\n",
        "\n",
        "Note that when you use the API, you get the final response from the model, but the thoughts are not captured. To see the intermediate thoughts, try out [the thinking mode model in AI Studio](https://aistudio.google.com/prompts/new_chat?model=gemini-2.0-flash-thinking-exp-01-21).\n",
        "\n",
        "<table align=left>\n",
        "  <td>\n",
        "    <a target=\"_blank\" href=\"https://aistudio.google.com/prompts/1Z991SV7lZZZqioOiqIUPv9a9ix-ws4zk\"><img src=\"https://ai.google.dev/site-assets/images/marketing/home/icon-ais.png\" style=\"height: 24px\" height=24/> Open in AI Studio</a>\n",
        "  </td>\n",
        "</table>"
      ],
      "metadata": {
        "id": "TzX7fSjirbo_"
      }
    },
    {
      "cell_type": "code",
      "source": [
        "import io\n",
        "from IPython.display import Markdown, clear_output\n",
        "\n",
        "\n",
        "response = client.models.generate_content_stream(\n",
        "    model='gemini-2.0-flash-thinking-exp',\n",
        "    contents='Who was the youngest author listed on the transformers NLP paper?',\n",
        ")\n",
        "\n",
        "buf = io.StringIO()\n",
        "for chunk in response:\n",
        "    buf.write(chunk.text)\n",
        "    # Display the response as it is streamed\n",
        "    print(chunk.text, end='')\n",
        "\n",
        "# And then render the finished response as formatted markdown.\n",
        "clear_output()\n",
        "Markdown(buf.getvalue())"
      ],
      "metadata": {
        "colab": {
          "base_uri": "https://localhost:8080/",
          "height": 186
        },
        "id": "uf1VdUK8rdg1",
        "outputId": "aa4a17be-84be-4f6d-d3f9-7647ddae70b6"
      },
      "execution_count": 52,
      "outputs": [
        {
          "output_type": "execute_result",
          "data": {
            "text/plain": [
              "<IPython.core.display.Markdown object>"
            ],
            "text/markdown": "Based on available information, the youngest author listed on the \"Attention is All You Need\" paper (the Transformer paper) is likely **Aidan N. Gomez**.\n\nHere's why:\n\n* **Aidan N. Gomez** was a PhD student at the University of Toronto at the time of the paper's publication. PhD students are generally younger than research scientists and other established researchers.\n* The other authors were mostly researchers at Google Brain and other established institutions, suggesting they were further along in their careers and likely older than a PhD student.\n\nWhile we don't have the exact birthdates of all authors publicly available to definitively confirm age, being a PhD student at the time strongly indicates that Aidan N. Gomez was likely the youngest author on the paper."
          },
          "metadata": {},
          "execution_count": 52
        }
      ]
    },
    {
      "cell_type": "markdown",
      "source": [
        "## Code prompting"
      ],
      "metadata": {
        "id": "WE7Z3FX9rhiY"
      }
    },
    {
      "cell_type": "markdown",
      "source": [
        "### Generating code\n",
        "\n",
        "The Gemini family of models can be used to generate code, configuration and scripts. Generating code can be helpful when learning to code, learning a new language or for rapidly generating a first draft.\n",
        "\n",
        "It's important to be aware that since LLMs can make mistakes, and can repeat training data, it's essential to read and test your code first, and comply with any relevant licenses.\n",
        "\n",
        "<table align=left>\n",
        "  <td>\n",
        "    <a target=\"_blank\" href=\"https://aistudio.google.com/prompts/1YX71JGtzDjXQkgdes8bP6i3oH5lCRKxv\"><img src=\"https://ai.google.dev/site-assets/images/marketing/home/icon-ais.png\" style=\"height: 24px\" height=24/> Open in AI Studio</a>\n",
        "  </td>\n",
        "</table>"
      ],
      "metadata": {
        "id": "SGWCVfJPrmXr"
      }
    },
    {
      "cell_type": "code",
      "source": [
        "# The Gemini models love to talk, so it helps to specify they stick to the code if that\n",
        "# is all that you want.\n",
        "code_prompt = \"\"\"\n",
        "Write a Python function to calculate the factorial of a number. No explanation, provide only the code.\n",
        "\"\"\"\n",
        "\n",
        "response = client.models.generate_content(\n",
        "    model='gemini-2.0-flash',\n",
        "    config=types.GenerateContentConfig(\n",
        "        temperature=1,\n",
        "        top_p=1,\n",
        "        max_output_tokens=1024,\n",
        "    ),\n",
        "    contents=code_prompt)\n",
        "\n",
        "Markdown(response.text)"
      ],
      "metadata": {
        "colab": {
          "base_uri": "https://localhost:8080/",
          "height": 208
        },
        "id": "NkA3g9O6roGw",
        "outputId": "046a854d-cc03-4da0-96e6-9b74b211f3ab"
      },
      "execution_count": 53,
      "outputs": [
        {
          "output_type": "execute_result",
          "data": {
            "text/plain": [
              "<IPython.core.display.Markdown object>"
            ],
            "text/markdown": "```python\ndef factorial(n):\n  \"\"\"\n  Calculate the factorial of a non-negative integer.\n  \"\"\"\n  if n == 0:\n    return 1\n  else:\n    result = 1\n    for i in range(1, n + 1):\n      result *= i\n    return result\n```\n"
          },
          "metadata": {},
          "execution_count": 53
        }
      ]
    },
    {
      "cell_type": "markdown",
      "source": [
        "### Code execution\n",
        "\n",
        "The Gemini API can automatically run generated code too, and will return the output.\n",
        "\n",
        "<table align=left>\n",
        "  <td>\n",
        "    <a target=\"_blank\" href=\"https://aistudio.google.com/prompts/11veFr_VYEwBWcLkhNLr-maCG0G8sS_7Z\"><img src=\"https://ai.google.dev/site-assets/images/marketing/home/icon-ais.png\" style=\"height: 24px\" height=24/> Open in AI Studio</a>\n",
        "  </td>\n",
        "</table>"
      ],
      "metadata": {
        "id": "dPbsgLV7rpvj"
      }
    },
    {
      "cell_type": "code",
      "source": [
        "from pprint import pprint\n",
        "\n",
        "config = types.GenerateContentConfig(\n",
        "    tools=[types.Tool(code_execution=types.ToolCodeExecution())],\n",
        ")\n",
        "\n",
        "code_exec_prompt = \"\"\"\n",
        "Generate the first 14 odd prime numbers, then calculate their sum.\n",
        "\"\"\"\n",
        "\n",
        "response = client.models.generate_content(\n",
        "    model='gemini-2.0-flash',\n",
        "    config=config,\n",
        "    contents=code_exec_prompt)\n",
        "\n",
        "for part in response.candidates[0].content.parts:\n",
        "  pprint(part.to_json_dict())\n",
        "  print(\"-----\")"
      ],
      "metadata": {
        "colab": {
          "base_uri": "https://localhost:8080/"
        },
        "id": "Seh5xbSIrsEp",
        "outputId": "499db7e9-ecfc-4f52-96a7-eb7fe21f32c4"
      },
      "execution_count": 54,
      "outputs": [
        {
          "output_type": "stream",
          "name": "stdout",
          "text": [
            "{'text': 'Okay, I can do that. First, I need to generate the first 14 odd '\n",
            "         'prime numbers. Remember that a prime number is a number greater than '\n",
            "         '1 that has no positive divisors other than 1 and itself. The first '\n",
            "         'few prime numbers are 2, 3, 5, 7, 11, and so on. Since the question '\n",
            "         'asks for odd prime numbers, I will exclude 2.\\n'\n",
            "         '\\n'\n",
            "         \"Then, I'll sum those prime numbers up.\\n\"\n",
            "         '\\n'}\n",
            "-----\n",
            "{'executable_code': {'code': 'primes = [3, 5, 7, 11, 13, 17, 19, 23, 29, 31, '\n",
            "                             '37, 41, 43, 47]\\n'\n",
            "                             'sum_of_primes = sum(primes)\\n'\n",
            "                             \"print(f'{primes=}')\\n\"\n",
            "                             \"print(f'{sum_of_primes=}')\\n\",\n",
            "                     'language': 'PYTHON'}}\n",
            "-----\n",
            "{'code_execution_result': {'outcome': 'OUTCOME_OK',\n",
            "                           'output': 'primes=[3, 5, 7, 11, 13, 17, 19, 23, 29, '\n",
            "                                     '31, 37, 41, 43, 47]\\n'\n",
            "                                     'sum_of_primes=326\\n'}}\n",
            "-----\n",
            "{'text': 'The first 14 odd prime numbers are 3, 5, 7, 11, 13, 17, 19, 23, 29, '\n",
            "         '31, 37, 41, 43, and 47. Their sum is 326.\\n'}\n",
            "-----\n"
          ]
        }
      ]
    },
    {
      "cell_type": "markdown",
      "source": [
        "This response contains multiple parts, including an opening and closing text part that represent regular responses, an `executable_code` part that represents generated code and a `code_execution_result` part that represents the results from running the generated code.\n",
        "\n",
        "You can explore them individually."
      ],
      "metadata": {
        "id": "AOqP3OlSrtcH"
      }
    },
    {
      "cell_type": "code",
      "source": [
        "for part in response.candidates[0].content.parts:\n",
        "    if part.text:\n",
        "        display(Markdown(part.text))\n",
        "    elif part.executable_code:\n",
        "        display(Markdown(f'```python\\n{part.executable_code.code}\\n```'))\n",
        "    elif part.code_execution_result:\n",
        "        if part.code_execution_result.outcome != 'OUTCOME_OK':\n",
        "            display(Markdown(f'## Status {part.code_execution_result.outcome}'))\n",
        "\n",
        "        display(Markdown(f'```\\n{part.code_execution_result.output}\\n```'))"
      ],
      "metadata": {
        "colab": {
          "base_uri": "https://localhost:8080/",
          "height": 221
        },
        "id": "Q6FAg7Qyrvwv",
        "outputId": "e40825a3-27b0-4788-ea9a-d9f07a2b0770"
      },
      "execution_count": 55,
      "outputs": [
        {
          "output_type": "display_data",
          "data": {
            "text/plain": [
              "<IPython.core.display.Markdown object>"
            ],
            "text/markdown": "Okay, I can do that. First, I need to generate the first 14 odd prime numbers. Remember that a prime number is a number greater than 1 that has no positive divisors other than 1 and itself. The first few prime numbers are 2, 3, 5, 7, 11, and so on. Since the question asks for odd prime numbers, I will exclude 2.\n\nThen, I'll sum those prime numbers up.\n\n"
          },
          "metadata": {}
        },
        {
          "output_type": "display_data",
          "data": {
            "text/plain": [
              "<IPython.core.display.Markdown object>"
            ],
            "text/markdown": "```python\nprimes = [3, 5, 7, 11, 13, 17, 19, 23, 29, 31, 37, 41, 43, 47]\nsum_of_primes = sum(primes)\nprint(f'{primes=}')\nprint(f'{sum_of_primes=}')\n\n```"
          },
          "metadata": {}
        },
        {
          "output_type": "display_data",
          "data": {
            "text/plain": [
              "<IPython.core.display.Markdown object>"
            ],
            "text/markdown": "```\nprimes=[3, 5, 7, 11, 13, 17, 19, 23, 29, 31, 37, 41, 43, 47]\nsum_of_primes=326\n\n```"
          },
          "metadata": {}
        },
        {
          "output_type": "display_data",
          "data": {
            "text/plain": [
              "<IPython.core.display.Markdown object>"
            ],
            "text/markdown": "The first 14 odd prime numbers are 3, 5, 7, 11, 13, 17, 19, 23, 29, 31, 37, 41, 43, and 47. Their sum is 326.\n"
          },
          "metadata": {}
        }
      ]
    },
    {
      "cell_type": "markdown",
      "source": [
        "### Explaining code\n",
        "\n",
        "The Gemini family of models can explain code to you too. In this example, you pass a [bash script](https://github.com/magicmonty/bash-git-prompt) and ask some questions.\n",
        "\n",
        "<table align=left>\n",
        "  <td>\n",
        "    <a target=\"_blank\" href=\"https://aistudio.google.com/prompts/1N7LGzWzCYieyOf_7bAG4plrmkpDNmUyb\"><img src=\"https://ai.google.dev/site-assets/images/marketing/home/icon-ais.png\" style=\"height: 24px\" height=24/> Open in AI Studio</a>\n",
        "  </td>\n",
        "</table>"
      ],
      "metadata": {
        "id": "BlssoyOWrx25"
      }
    },
    {
      "cell_type": "code",
      "source": [
        "file_contents = !curl https://raw.githubusercontent.com/magicmonty/bash-git-prompt/refs/heads/master/gitprompt.sh\n",
        "\n",
        "explain_prompt = f\"\"\"\n",
        "Please explain what this file does at a very high level. What is it, and why would I use it?\n",
        "\n",
        "```\n",
        "{file_contents}\n",
        "```\n",
        "\"\"\"\n",
        "\n",
        "response = client.models.generate_content(\n",
        "    model='gemini-2.0-flash',\n",
        "    contents=explain_prompt)\n",
        "\n",
        "Markdown(response.text)"
      ],
      "metadata": {
        "colab": {
          "base_uri": "https://localhost:8080/",
          "height": 441
        },
        "id": "aHWaJloyr0Jf",
        "outputId": "fef48698-40b4-4a88-f7e6-3361f0ba4a21"
      },
      "execution_count": 56,
      "outputs": [
        {
          "output_type": "execute_result",
          "data": {
            "text/plain": [
              "<IPython.core.display.Markdown object>"
            ],
            "text/markdown": "This file is a Bash script designed to enhance your command-line prompt with information about the Git repository you're currently working in. It customizes the prompt to display things like the current branch, the status of your working directory (e.g., staged changes, untracked files), and how your local branch relates to the remote repository.\n\nHere's a breakdown:\n\n*   **Git Status Display:**  The primary function is to show you the current state of your Git repository directly in your prompt. This includes branch name, whether you have uncommitted changes, if you're ahead/behind the remote, etc.  This makes it much easier to keep track of your Git status without constantly running `git status`.\n*   **Customization:** It allows for extensive customization of the prompt's appearance through themes and configuration options.  You can control colors, symbols, and the information displayed. You can define your own themes to make the prompt look exactly how you want it.\n*   **Asynchronous Operations:** To avoid slowing down your shell, it uses asynchronous operations to fetch remote Git status in the background.  This means the prompt update won't block your typing while it's checking for remote changes.\n*   **Cross-Shell Compatibility:** The script attempts to work in both Bash and Zsh shells, handling the differences in their syntax.\n*   **Virtual Environment Awareness:** The script is also aware of python virtual environments and will display what venv you're in, in your prompt as well.\n\n**Why you would use it:**\n\n*   **Improved Workflow:** It provides immediate, at-a-glance information about your Git repository, improving your workflow by reducing the need to run `git status` constantly.\n*   **Enhanced Productivity:** Knowing the status of your Git repository directly in the prompt allows you to make quicker decisions about your next steps.\n*   **Customizable Appearance:** You can tailor the prompt's appearance to match your personal preferences and workflow.\n*   **Convenience:** It automates the process of displaying Git information, saving you time and effort.\n\nIn essence, this script aims to make working with Git repositories from the command line more efficient and informative by providing a dynamic and customizable prompt that reflects the current Git status. You would typically include/source this script in your `.bashrc` (or `.zshrc`) file to have the prompt automatically updated whenever you open a new terminal.\n"
          },
          "metadata": {},
          "execution_count": 56
        }
      ]
    },
    {
      "cell_type": "code",
      "source": [],
      "metadata": {
        "id": "Alq3uf58r128"
      },
      "execution_count": null,
      "outputs": []
    }
  ]
}